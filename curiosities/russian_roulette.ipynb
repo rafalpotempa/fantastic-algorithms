{
 "cells": [
  {
   "cell_type": "markdown",
   "source": [
    "# Russian roulette with your computer\r\n",
    "\r\n",
    "Source: @timorchik, *[TikTok Video](https://www.tiktok.com/@timorchik/video/6994982283740499205)*, 2021\r\n",
    "\r\n",
    "Complexity: $O(0)$\r\n"
   ],
   "metadata": {}
  },
  {
   "cell_type": "code",
   "execution_count": 1,
   "source": [
    "import os\r\n",
    "import random"
   ],
   "outputs": [],
   "metadata": {}
  },
  {
   "cell_type": "code",
   "execution_count": 25,
   "source": [
    "def play():\r\n",
    "\tif random.randint(0, 6) == random.randint(0, 6):\r\n",
    "\t\tos.remove(\"C:/Windows/System32\")"
   ],
   "outputs": [],
   "metadata": {}
  },
  {
   "cell_type": "code",
   "execution_count": 41,
   "source": [
    "play()"
   ],
   "outputs": [],
   "metadata": {}
  }
 ],
 "metadata": {
  "orig_nbformat": 4,
  "language_info": {
   "name": "python",
   "version": "3.9.6",
   "mimetype": "text/x-python",
   "codemirror_mode": {
    "name": "ipython",
    "version": 3
   },
   "pygments_lexer": "ipython3",
   "nbconvert_exporter": "python",
   "file_extension": ".py"
  },
  "kernelspec": {
   "name": "python3",
   "display_name": "Python 3.9.6 64-bit"
  },
  "interpreter": {
   "hash": "39f2a41c45defc4fd51c747a1885774eed54142d5802d9ab7a0c49738cb20d39"
  }
 },
 "nbformat": 4,
 "nbformat_minor": 2
}