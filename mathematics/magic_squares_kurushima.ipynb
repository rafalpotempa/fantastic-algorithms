{
 "cells": [
  {
   "cell_type": "markdown",
   "metadata": {},
   "source": [
    "# Creating magic squares with Kurushima's algorithm\n",
    "\n",
    "Source: Tuckfield B., *Dive Into Algorithms*, 2021\n",
    "\n",
    "Complexity: $O(?)$"
   ]
  },
  {
   "cell_type": "code",
   "execution_count": 1,
   "metadata": {},
   "outputs": [],
   "source": [
    "import numpy as np"
   ]
  },
  {
   "cell_type": "code",
   "execution_count": 14,
   "metadata": {},
   "outputs": [
    {
     "data": {
      "text/plain": [
       "array([[nan,  9., nan],\n",
       "       [ 3.,  5.,  7.],\n",
       "       [nan,  1., nan]])"
      ]
     },
     "execution_count": 14,
     "metadata": {},
     "output_type": "execute_result"
    }
   ],
   "source": [
    "def magic_square(n):\n",
    "    if n < 3 or n % 2 == 0: \n",
    "        return\n",
    "    \n",
    "    h = np.empty(((n-3)//2, n)); h[:] = np.nan\n",
    "    v = np.empty((3, (n-3)//2)); v[:] = np.nan\n",
    "\n",
    "    luoshu_like = np.array(\n",
    "        [[np.nan, n**2,        np.nan  ],\n",
    "         [n,      (n**2+1)//2, n**2+1-n],\n",
    "         [np.nan, 1,           np.nan  ]])\n",
    "\n",
    "    square = np.vstack([h, np.hstack([v, luoshu_like, v]), h])\n",
    "\n",
    "    return square\n",
    "\n",
    "magic_square(3)"
   ]
  },
  {
   "cell_type": "code",
   "execution_count": null,
   "metadata": {},
   "outputs": [],
   "source": []
  }
 ],
 "metadata": {
  "interpreter": {
   "hash": "07efdcd4b820c98a756949507a4d29d7862823915ec7477944641bea022f4f62"
  },
  "kernelspec": {
   "display_name": "Python 3.9.5 64-bit ('base': conda)",
   "name": "python3"
  },
  "language_info": {
   "codemirror_mode": {
    "name": "ipython",
    "version": 3
   },
   "file_extension": ".py",
   "mimetype": "text/x-python",
   "name": "python",
   "nbconvert_exporter": "python",
   "pygments_lexer": "ipython3",
   "version": "3.9.5"
  },
  "orig_nbformat": 4
 },
 "nbformat": 4,
 "nbformat_minor": 2
}
