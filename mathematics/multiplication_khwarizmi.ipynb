{
 "cells": [
  {
   "cell_type": "markdown",
   "source": [
    "# Multiplication of numbers by Al Khwarizmi's method\r\n",
    "\r\n",
    "Source: S. Dasgupta, C. Papadimitriou, U. Vazirani, *Algorithms*, 2008\r\n",
    "\r\n",
    "Complexity: $O(n^{2})$"
   ],
   "metadata": {}
  },
  {
   "cell_type": "code",
   "execution_count": 1,
   "source": [
    "import numpy as np\r\n",
    "from visualization.multiplication_khwarizmi import visualize"
   ],
   "outputs": [],
   "metadata": {}
  },
  {
   "cell_type": "code",
   "execution_count": 8,
   "source": [
    "@visualize\r\n",
    "def multiply_khwarizmi(x: int, y: int):\r\n",
    "\trows = [(x, y)]\r\n",
    "\twhile x > 1:\r\n",
    "\t\tx >>= 1 # true divide by two\r\n",
    "\t\ty <<= 1 # multiply by two\r\n",
    "\t\trows.append((x, y))\r\n",
    "\trows = np.array(rows)\r\n",
    "\r\n",
    "\tresult = rows[rows[:,0]%2 != 0][:,1].sum()\r\n",
    "\treturn result, rows"
   ],
   "outputs": [],
   "metadata": {}
  },
  {
   "cell_type": "code",
   "execution_count": 9,
   "source": [
    "multiply_khwarizmi(11, 13)"
   ],
   "outputs": [
    {
     "output_type": "stream",
     "name": "stdout",
     "text": [
      "    11     13 +\n",
      "     5     26 +\n",
      "     2     52 \n",
      "     1    104 +\n",
      "---------------\n",
      "          143\n"
     ]
    }
   ],
   "metadata": {}
  }
 ],
 "metadata": {
  "orig_nbformat": 4,
  "language_info": {
   "name": "python",
   "version": "3.9.5",
   "mimetype": "text/x-python",
   "codemirror_mode": {
    "name": "ipython",
    "version": 3
   },
   "pygments_lexer": "ipython3",
   "nbconvert_exporter": "python",
   "file_extension": ".py"
  },
  "kernelspec": {
   "name": "python3",
   "display_name": "Python 3.9.5 64-bit ('base': conda)"
  },
  "interpreter": {
   "hash": "07efdcd4b820c98a756949507a4d29d7862823915ec7477944641bea022f4f62"
  }
 },
 "nbformat": 4,
 "nbformat_minor": 2
}