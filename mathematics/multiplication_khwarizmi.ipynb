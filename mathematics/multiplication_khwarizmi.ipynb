{
 "cells": [
  {
   "cell_type": "markdown",
   "metadata": {},
   "source": [
    "# Multiplication of numbers by Al Khwarizmi's method\n",
    "\n",
    "Source: S. Dasgupta, C. Papadimitriou, U. Vazirani, *Algorithms*, 2008\n",
    "\n",
    "Complexity: $O(n^{2})$"
   ]
  },
  {
   "cell_type": "code",
   "execution_count": 1,
   "metadata": {},
   "outputs": [],
   "source": [
    "import numpy as np\n",
    "from visualization.multiplication_khwarizmi import visualize"
   ]
  },
  {
   "cell_type": "code",
   "execution_count": 4,
   "metadata": {},
   "outputs": [],
   "source": [
    "@visualize\n",
    "def multiply_khwarizmi(x: int, y: int):\n",
    "    rows = [(x, y)]\n",
    "    while x > 1:\n",
    "        x >>= 1  # true divide by two\n",
    "        y <<= 1  # multiply by two\n",
    "        rows.append((x, y))\n",
    "    rows = np.array(rows)\n",
    "\n",
    "    result = rows[rows[:,0]%2 != 0][:,1].sum()\n",
    "    return result, rows"
   ]
  },
  {
   "cell_type": "code",
   "execution_count": 5,
   "metadata": {},
   "outputs": [
    {
     "name": "stdout",
     "output_type": "stream",
     "text": [
      "    11     13 +\n",
      "     5     26 +\n",
      "     2     52 \n",
      "     1    104 +\n",
      "---------------\n",
      "          143\n"
     ]
    }
   ],
   "source": [
    "multiply_khwarizmi(11, 13)"
   ]
  },
  {
   "cell_type": "code",
   "execution_count": null,
   "metadata": {},
   "outputs": [],
   "source": []
  }
 ],
 "metadata": {
  "interpreter": {
   "hash": "07efdcd4b820c98a756949507a4d29d7862823915ec7477944641bea022f4f62"
  },
  "kernelspec": {
   "display_name": "Python 3.9.5 64-bit ('base': conda)",
   "name": "python3"
  },
  "language_info": {
   "codemirror_mode": {
    "name": "ipython",
    "version": 3
   },
   "file_extension": ".py",
   "mimetype": "text/x-python",
   "name": "python",
   "nbconvert_exporter": "python",
   "pygments_lexer": "ipython3",
   "version": "3.9.5"
  },
  "orig_nbformat": 4
 },
 "nbformat": 4,
 "nbformat_minor": 2
}
