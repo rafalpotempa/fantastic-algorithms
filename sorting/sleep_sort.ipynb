{
 "cells": [
  {
   "cell_type": "markdown",
   "source": [
    "# Sorting an array with sleep\r\n",
    "\r\n",
    "Source: Tuckfield B., *Dive Into Algorithms*, 2021\r\n",
    "\r\n",
    "Complexity: $O(\\max(input) + n)$"
   ],
   "metadata": {}
  },
  {
   "cell_type": "code",
   "execution_count": 1,
   "source": [
    "import threading\r\n",
    "from time import sleep\r\n",
    "# from visualization.sleep_sort import visualize"
   ],
   "outputs": [],
   "metadata": {}
  },
  {
   "cell_type": "code",
   "execution_count": 2,
   "source": [
    "def sleep_sort(array):\r\n",
    "\tresult = []\r\n",
    "\tlock = threading.Lock()\r\n",
    "\r\n",
    "\tdef wait(k):\r\n",
    "\t\tsleep(k)\r\n",
    "\t\twith lock:\r\n",
    "\t\t\tresult.append(k)\r\n",
    "\r\n",
    "\t[threading.Thread(target = wait, args = [k]).start() for k in array]\r\n",
    "\tsleep(max(array) + 1)\r\n",
    "\treturn result\r\n",
    "\r\n",
    "sleep_sort([2, 4, 5, 2, 1, 7])"
   ],
   "outputs": [
    {
     "output_type": "execute_result",
     "data": {
      "text/plain": [
       "[1, 2, 2, 4, 5, 7]"
      ]
     },
     "metadata": {},
     "execution_count": 2
    }
   ],
   "metadata": {}
  }
 ],
 "metadata": {
  "orig_nbformat": 4,
  "language_info": {
   "name": "python",
   "version": "3.9.5",
   "mimetype": "text/x-python",
   "codemirror_mode": {
    "name": "ipython",
    "version": 3
   },
   "pygments_lexer": "ipython3",
   "nbconvert_exporter": "python",
   "file_extension": ".py"
  },
  "kernelspec": {
   "name": "python3",
   "display_name": "Python 3.9.5 64-bit ('base': conda)"
  },
  "interpreter": {
   "hash": "07efdcd4b820c98a756949507a4d29d7862823915ec7477944641bea022f4f62"
  }
 },
 "nbformat": 4,
 "nbformat_minor": 2
}